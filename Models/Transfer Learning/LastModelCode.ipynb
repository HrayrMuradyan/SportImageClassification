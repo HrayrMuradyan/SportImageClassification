{
 "cells": [
  {
   "cell_type": "markdown",
   "metadata": {},
   "source": [
    "# Sport Image Classification (Using Convolutional Neural Network)"
   ]
  },
  {
   "cell_type": "markdown",
   "metadata": {},
   "source": [
    "Collection of 100 different sport images. Total of 13572 samples. The classes are nearly balanced, number of samples for each class varies ~100-170"
   ]
  },
  {
   "cell_type": "markdown",
   "metadata": {},
   "source": [
    "#### The Problem with the dataset"
   ]
  },
  {
   "cell_type": "markdown",
   "metadata": {},
   "source": [
    "There are ~13572/100 = 135.72 samples for each class. Since the number of samples for each class is small, complex model easily overfits data and simple model is not able to find complex features for classifying sport images. Resnet50 V2 may be a good solution for this problem, which helps us to train deep networks with skip (shortcut) connections that reduces the chance of harming training set performance and having a vanishing gradient problem."
   ]
  },
  {
   "cell_type": "markdown",
   "metadata": {},
   "source": [
    "### Importing Libraries"
   ]
  },
  {
   "cell_type": "code",
   "execution_count": 1,
   "metadata": {},
   "outputs": [],
   "source": [
    "import numpy as np\n",
    "import os\n",
    "from keras import layers\n",
    "from keras import models\n",
    "from keras import optimizers\n",
    "from keras import metrics\n",
    "from keras.callbacks import EarlyStopping,ModelCheckpoint\n",
    "import scipy\n",
    "import tensorflow as tf \n",
    "import matplotlib.pyplot as plt\n",
    "from keras.preprocessing.image import ImageDataGenerator\n",
    "from tensorflow.keras.applications.resnet_v2 import ResNet50V2\n",
    "from tensorflow.keras.applications.resnet_v2 import preprocess_input, decode_predictions\n",
    "from tensorflow.keras.layers import Input, Add, Dense, Activation, ZeroPadding2D, BatchNormalization, Flatten, Conv2D, AveragePooling2D, MaxPooling2D, GlobalMaxPooling2D\n",
    "from tensorflow.keras.initializers import random_uniform, glorot_uniform, constant, identity\n",
    "from tensorflow.python.framework.ops import EagerTensor"
   ]
  },
  {
   "cell_type": "code",
   "execution_count": 2,
   "metadata": {},
   "outputs": [],
   "source": [
    "train_directory = '../../Data/TrainSet'\n",
    "valid_directory = '../../Data/ValidSet'\n",
    "test_directory = '../../Data/TestSet'"
   ]
  },
  {
   "cell_type": "code",
   "execution_count": 3,
   "metadata": {},
   "outputs": [
    {
     "name": "stdout",
     "output_type": "stream",
     "text": [
      "air hockey -> 112\n",
      "ampute football -> 112\n",
      "archery -> 132\n",
      "arm wrestling -> 99\n",
      "axe throwing -> 113\n",
      "balance beam -> 152\n",
      "barell racing -> 123\n",
      "baseball -> 174\n",
      "basketball -> 169\n",
      "baton twirling -> 108\n",
      "bike polo -> 111\n",
      "billiards -> 145\n",
      "bmx -> 140\n",
      "bobsled -> 138\n",
      "bowling -> 120\n",
      "boxing -> 116\n",
      "bull riding -> 149\n",
      "bungee jumping -> 125\n",
      "canoe slamon -> 164\n",
      "cheerleading -> 132\n",
      "chuckwagon racing -> 120\n",
      "cricket -> 130\n",
      "croquet -> 136\n",
      "curling -> 141\n",
      "disc golf -> 123\n",
      "fencing -> 135\n",
      "field hockey -> 158\n",
      "figure skating men -> 146\n",
      "figure skating pairs -> 151\n",
      "figure skating women -> 159\n",
      "fly fishing -> 134\n",
      "football -> 191\n",
      "formula 1 racing -> 191\n",
      "frisbee -> 133\n",
      "gaga -> 118\n",
      "giant slalom -> 151\n",
      "golf -> 157\n",
      "hammer throw -> 122\n",
      "hang gliding -> 122\n",
      "harness racing -> 147\n",
      "high jump -> 159\n",
      "hockey -> 172\n",
      "horse jumping -> 137\n",
      "horse racing -> 139\n",
      "horseshoe pitching -> 102\n",
      "hurdles -> 137\n",
      "hydroplane racing -> 108\n",
      "ice climbing -> 130\n",
      "ice yachting -> 112\n",
      "jai alai -> 132\n",
      "javelin -> 136\n",
      "jousting -> 118\n",
      "judo -> 150\n",
      "lacrosse -> 151\n",
      "log rolling -> 128\n",
      "luge -> 127\n",
      "motorcycle racing -> 132\n",
      "mushing -> 111\n",
      "nascar racing -> 190\n",
      "olympic wrestling -> 167\n",
      "parallel bar -> 133\n",
      "pole climbing -> 118\n",
      "pole dancing -> 112\n",
      "pole vault -> 138\n",
      "polo -> 157\n",
      "pommel horse -> 120\n",
      "rings -> 167\n",
      "rock climbing -> 141\n",
      "roller derby -> 163\n",
      "rollerblade racing -> 159\n",
      "rowing -> 143\n",
      "rugby -> 166\n",
      "sailboat racing -> 144\n",
      "shot put -> 155\n",
      "shuffleboard -> 130\n",
      "sidecar racing -> 135\n",
      "ski jumping -> 130\n",
      "sky surfing -> 59\n",
      "skydiving -> 149\n",
      "snow boarding -> 117\n",
      "snowmobile racing -> 147\n",
      "speed skating -> 137\n",
      "steer wrestling -> 122\n",
      "sumo wrestling -> 133\n",
      "surfing -> 142\n",
      "swimming -> 157\n",
      "table tennis -> 141\n",
      "tennis -> 131\n",
      "track bicycle -> 135\n",
      "trapeze -> 132\n",
      "tug of war -> 128\n",
      "ultimate -> 99\n",
      "uneven bars -> 158\n",
      "volleyball -> 147\n",
      "water cycling -> 103\n",
      "water polo -> 130\n",
      "weightlifting -> 134\n",
      "wheelchair basketball -> 106\n",
      "wheelchair racing -> 119\n",
      "wingsuit flying -> 98\n"
     ]
    }
   ],
   "source": [
    "for folder in os.listdir(train_directory):\n",
    "    print(folder + ' -> ' + str(len([name for name in os.listdir('../../Data/TrainSet/'+str(folder))])))"
   ]
  },
  {
   "cell_type": "markdown",
   "metadata": {},
   "source": [
    "# Importing the dataset "
   ]
  },
  {
   "cell_type": "markdown",
   "metadata": {},
   "source": [
    "I will apply data augmentation, which not only is a variance reduction technique, but also may result in a better performance of the model. "
   ]
  },
  {
   "cell_type": "code",
   "execution_count": 4,
   "metadata": {},
   "outputs": [],
   "source": [
    "train_datagen = ImageDataGenerator(\n",
    "        rescale = 1./255,\n",
    "        rotation_range=40,\n",
    "        width_shift_range=0.2,\n",
    "        height_shift_range=0.2,\n",
    "        shear_range=0.2,\n",
    "        horizontal_flip=True)"
   ]
  },
  {
   "cell_type": "code",
   "execution_count": 5,
   "metadata": {},
   "outputs": [],
   "source": [
    "datagen = ImageDataGenerator(rescale=1./255)"
   ]
  },
  {
   "cell_type": "code",
   "execution_count": 6,
   "metadata": {},
   "outputs": [
    {
     "name": "stdout",
     "output_type": "stream",
     "text": [
      "Found 13572 images belonging to 100 classes.\n"
     ]
    }
   ],
   "source": [
    "train_generator = train_datagen.flow_from_directory(\n",
    "        train_directory,\n",
    "        target_size = (224,224),\n",
    "        batch_size = 16,\n",
    "        class_mode='categorical'\n",
    ")"
   ]
  },
  {
   "cell_type": "code",
   "execution_count": 7,
   "metadata": {},
   "outputs": [
    {
     "name": "stdout",
     "output_type": "stream",
     "text": [
      "Found 500 images belonging to 100 classes.\n"
     ]
    }
   ],
   "source": [
    "validation_generator = datagen.flow_from_directory(\n",
    "        valid_directory,\n",
    "        target_size=(224,224),\n",
    "        batch_size = 16,\n",
    "        class_mode = 'categorical'\n",
    ")"
   ]
  },
  {
   "cell_type": "markdown",
   "metadata": {},
   "source": [
    "The base model is Resnet50 V2 model with 'imagenet' weights, without top layers"
   ]
  },
  {
   "cell_type": "code",
   "execution_count": 8,
   "metadata": {},
   "outputs": [],
   "source": [
    "base_model = tf.keras.applications.resnet_v2.ResNet50V2(\n",
    "    include_top=False,\n",
    "    weights='imagenet',\n",
    "    classes=100,\n",
    "    classifier_activation='softmax',\n",
    "    input_shape=(224,224,3)\n",
    ")"
   ]
  },
  {
   "cell_type": "markdown",
   "metadata": {},
   "source": [
    "First 170 layer weights won't be changed during training process, the weights of the layers after 170th will be trained on the dataset.\n",
    "Two fully connected layers with relu activation and one output layer with softmax activation are added to the bottom of the model to be trained on the dataset too."
   ]
  },
  {
   "cell_type": "code",
   "execution_count": 9,
   "metadata": {},
   "outputs": [],
   "source": [
    "base_model.trainable = True"
   ]
  },
  {
   "cell_type": "code",
   "execution_count": 10,
   "metadata": {},
   "outputs": [],
   "source": [
    "for layer in base_model.layers[:170]:\n",
    "    layer.trainable = False"
   ]
  },
  {
   "cell_type": "code",
   "execution_count": 11,
   "metadata": {},
   "outputs": [],
   "source": [
    "model = models.Sequential()\n",
    "model.add(base_model)\n",
    "model.add(layers.GlobalAveragePooling2D())\n",
    "model.add(layers.BatchNormalization())\n",
    "model.add(layers.Dense(2048, activation='relu'))\n",
    "model.add(layers.Dropout(0.2))\n",
    "model.add(layers.BatchNormalization())\n",
    "model.add(layers.Dense(1024, activation='relu'))\n",
    "model.add(layers.BatchNormalization())\n",
    "model.add(layers.Dense(100, activation='softmax'))"
   ]
  },
  {
   "cell_type": "code",
   "execution_count": 12,
   "metadata": {},
   "outputs": [
    {
     "name": "stdout",
     "output_type": "stream",
     "text": [
      "Model: \"sequential\"\n",
      "_________________________________________________________________\n",
      " Layer (type)                Output Shape              Param #   \n",
      "=================================================================\n",
      " resnet50v2 (Functional)     (None, 7, 7, 2048)        23564800  \n",
      "                                                                 \n",
      " global_average_pooling2d (G  (None, 2048)             0         \n",
      " lobalAveragePooling2D)                                          \n",
      "                                                                 \n",
      " batch_normalization (BatchN  (None, 2048)             8192      \n",
      " ormalization)                                                   \n",
      "                                                                 \n",
      " dense (Dense)               (None, 2048)              4196352   \n",
      "                                                                 \n",
      " dropout (Dropout)           (None, 2048)              0         \n",
      "                                                                 \n",
      " batch_normalization_1 (Batc  (None, 2048)             8192      \n",
      " hNormalization)                                                 \n",
      "                                                                 \n",
      " dense_1 (Dense)             (None, 1024)              2098176   \n",
      "                                                                 \n",
      " batch_normalization_2 (Batc  (None, 1024)             4096      \n",
      " hNormalization)                                                 \n",
      "                                                                 \n",
      " dense_2 (Dense)             (None, 100)               102500    \n",
      "                                                                 \n",
      "=================================================================\n",
      "Total params: 29,982,308\n",
      "Trainable params: 14,286,948\n",
      "Non-trainable params: 15,695,360\n",
      "_________________________________________________________________\n"
     ]
    }
   ],
   "source": [
    "model.summary()"
   ]
  },
  {
   "cell_type": "markdown",
   "metadata": {},
   "source": [
    "The optimization algorithm used is RMSprop with learning rate = 0.0001. The metric is categorical accuracy."
   ]
  },
  {
   "cell_type": "code",
   "execution_count": 13,
   "metadata": {},
   "outputs": [
    {
     "name": "stderr",
     "output_type": "stream",
     "text": [
      "C:\\Users\\hrayr\\AppData\\Local\\Programs\\Python\\Python310\\lib\\site-packages\\keras\\optimizers\\optimizer_v2\\rmsprop.py:135: UserWarning: The `lr` argument is deprecated, use `learning_rate` instead.\n",
      "  super(RMSprop, self).__init__(name, **kwargs)\n"
     ]
    }
   ],
   "source": [
    "model.compile(loss='categorical_crossentropy', optimizer=optimizers.RMSprop(lr=1e-4), metrics=metrics.metrics.categorical_accuracy)"
   ]
  },
  {
   "cell_type": "code",
   "execution_count": 14,
   "metadata": {},
   "outputs": [
    {
     "name": "stdout",
     "output_type": "stream",
     "text": [
      "Epoch 1/20\n"
     ]
    },
    {
     "name": "stderr",
     "output_type": "stream",
     "text": [
      "C:\\Users\\hrayr\\AppData\\Local\\Temp\\ipykernel_13164\\2433559394.py:1: UserWarning: `Model.fit_generator` is deprecated and will be removed in a future version. Please use `Model.fit`, which supports generators.\n",
      "  history = model.fit_generator(\n"
     ]
    },
    {
     "name": "stdout",
     "output_type": "stream",
     "text": [
      "848/848 [==============================] - 98s 110ms/step - loss: 2.2129 - categorical_accuracy: 0.4630 - val_loss: 0.5689 - val_categorical_accuracy: 0.8145\n",
      "Epoch 2/20\n",
      "848/848 [==============================] - 96s 113ms/step - loss: 1.0485 - categorical_accuracy: 0.7148 - val_loss: 0.3205 - val_categorical_accuracy: 0.9073\n",
      "Epoch 3/20\n",
      "848/848 [==============================] - 98s 116ms/step - loss: 0.7675 - categorical_accuracy: 0.7866 - val_loss: 0.2489 - val_categorical_accuracy: 0.9355\n",
      "Epoch 4/20\n",
      "848/848 [==============================] - 100s 118ms/step - loss: 0.6167 - categorical_accuracy: 0.8294 - val_loss: 0.2178 - val_categorical_accuracy: 0.9335\n",
      "Epoch 5/20\n",
      "848/848 [==============================] - 99s 117ms/step - loss: 0.5310 - categorical_accuracy: 0.8505 - val_loss: 0.1837 - val_categorical_accuracy: 0.9476\n",
      "Epoch 6/20\n",
      "848/848 [==============================] - 102s 120ms/step - loss: 0.4488 - categorical_accuracy: 0.8733 - val_loss: 0.2103 - val_categorical_accuracy: 0.9355\n",
      "Epoch 7/20\n",
      "848/848 [==============================] - 103s 122ms/step - loss: 0.3962 - categorical_accuracy: 0.8877 - val_loss: 0.1766 - val_categorical_accuracy: 0.9597\n",
      "Epoch 8/20\n",
      "848/848 [==============================] - 103s 121ms/step - loss: 0.3467 - categorical_accuracy: 0.9023 - val_loss: 0.1668 - val_categorical_accuracy: 0.9415\n",
      "Epoch 9/20\n",
      "848/848 [==============================] - 102s 121ms/step - loss: 0.3146 - categorical_accuracy: 0.9114 - val_loss: 0.1784 - val_categorical_accuracy: 0.9456\n",
      "Epoch 10/20\n",
      "848/848 [==============================] - 101s 118ms/step - loss: 0.2959 - categorical_accuracy: 0.9179 - val_loss: 0.1626 - val_categorical_accuracy: 0.9435\n",
      "Epoch 11/20\n",
      "848/848 [==============================] - 101s 119ms/step - loss: 0.2678 - categorical_accuracy: 0.9248 - val_loss: 0.1387 - val_categorical_accuracy: 0.9577\n",
      "Epoch 12/20\n",
      "848/848 [==============================] - 95s 112ms/step - loss: 0.2338 - categorical_accuracy: 0.9346 - val_loss: 0.1663 - val_categorical_accuracy: 0.9536\n",
      "Epoch 13/20\n",
      "848/848 [==============================] - 91s 107ms/step - loss: 0.2222 - categorical_accuracy: 0.9381 - val_loss: 0.2018 - val_categorical_accuracy: 0.9335\n",
      "Epoch 14/20\n",
      "848/848 [==============================] - 93s 110ms/step - loss: 0.1983 - categorical_accuracy: 0.9463 - val_loss: 0.1806 - val_categorical_accuracy: 0.9456\n",
      "Epoch 15/20\n",
      "848/848 [==============================] - 102s 120ms/step - loss: 0.1937 - categorical_accuracy: 0.9461 - val_loss: 0.1600 - val_categorical_accuracy: 0.9516\n",
      "Epoch 16/20\n",
      "848/848 [==============================] - 100s 117ms/step - loss: 0.1820 - categorical_accuracy: 0.9495 - val_loss: 0.1407 - val_categorical_accuracy: 0.9657\n",
      "Epoch 17/20\n",
      "848/848 [==============================] - 97s 114ms/step - loss: 0.1734 - categorical_accuracy: 0.9523 - val_loss: 0.1670 - val_categorical_accuracy: 0.9536\n",
      "Epoch 18/20\n",
      "848/848 [==============================] - 93s 110ms/step - loss: 0.1682 - categorical_accuracy: 0.9540 - val_loss: 0.2074 - val_categorical_accuracy: 0.9415\n",
      "Epoch 19/20\n",
      "848/848 [==============================] - 93s 110ms/step - loss: 0.1464 - categorical_accuracy: 0.9603 - val_loss: 0.1991 - val_categorical_accuracy: 0.9496\n",
      "Epoch 20/20\n",
      "848/848 [==============================] - 92s 108ms/step - loss: 0.1452 - categorical_accuracy: 0.9608 - val_loss: 0.1485 - val_categorical_accuracy: 0.9617\n"
     ]
    }
   ],
   "source": [
    "history = model.fit_generator(\n",
    "        train_generator,\n",
    "        steps_per_epoch = 848,\n",
    "        epochs = 20,\n",
    "        validation_data = validation_generator,\n",
    "        validation_steps = 31,\n",
    "        verbose=1\n",
    ")"
   ]
  },
  {
   "cell_type": "markdown",
   "metadata": {},
   "source": [
    "The training and validation accuracies are ~96% and ~95% respectively. The result is much more better than the previous models. Let's see how it performs on test (unseen) data."
   ]
  },
  {
   "cell_type": "code",
   "execution_count": 15,
   "metadata": {},
   "outputs": [
    {
     "name": "stdout",
     "output_type": "stream",
     "text": [
      "Found 500 images belonging to 100 classes.\n"
     ]
    }
   ],
   "source": [
    "test_generator = datagen.flow_from_directory(\n",
    "        test_directory,\n",
    "        target_size=(224,224),\n",
    "        batch_size = 16,\n",
    "        class_mode = 'categorical'\n",
    ")"
   ]
  },
  {
   "cell_type": "code",
   "execution_count": 16,
   "metadata": {},
   "outputs": [
    {
     "name": "stdout",
     "output_type": "stream",
     "text": [
      "32/32 [==============================] - 1s 34ms/step - loss: 0.1167 - categorical_accuracy: 0.9700\n"
     ]
    },
    {
     "data": {
      "text/plain": [
       "[0.1167035698890686, 0.9700000286102295]"
      ]
     },
     "execution_count": 16,
     "metadata": {},
     "output_type": "execute_result"
    }
   ],
   "source": [
    "model.evaluate(test_generator)"
   ]
  },
  {
   "cell_type": "markdown",
   "metadata": {},
   "source": [
    "Test set accuracy is 97%, which is a very good result!"
   ]
  },
  {
   "cell_type": "code",
   "execution_count": 17,
   "metadata": {},
   "outputs": [
    {
     "data": {
      "image/png": "[encoded data removed]",
      "text/plain": [
       "<Figure size 432x288 with 1 Axes>"
      ]
     },
     "metadata": {
      "needs_background": "light"
     },
     "output_type": "display_data"
    },
    {
     "data": {
      "image/png": "[encoded data removed]",
      "text/plain": [
       "<Figure size 432x288 with 1 Axes>"
      ]
     },
     "metadata": {
      "needs_background": "light"
     },
     "output_type": "display_data"
    }
   ],
   "source": [
    "acc = history.history['categorical_accuracy']\n",
    "val_acc = history.history['val_categorical_accuracy']\n",
    "loss = history.history['loss']\n",
    "val_loss = history.history['val_loss']\n",
    "\n",
    "epochs = range(1, len(acc) + 1)\n",
    "\n",
    "plt.plot(epochs, acc, 'bo', label = 'Training Accuracy')\n",
    "plt.plot(epochs, val_acc, 'b', label = 'Validation Accuracy')\n",
    "plt.title('Training and Validation Accuracy')\n",
    "plt.legend()\n",
    "plt.figure()\n",
    "\n",
    "plt.plot(epochs, loss, 'bo', label = 'Training Loss')\n",
    "plt.plot(epochs, val_loss, 'b', label = 'Validation Loss')\n",
    "plt.title('Training and Validation Loss')\n",
    "plt.legend()\n",
    "\n",
    "plt.show()"
   ]
  },
  {
   "cell_type": "code",
   "execution_count": 18,
   "metadata": {},
   "outputs": [],
   "source": [
    "model.save('LastModel.h5')"
   ]
  },
  {
   "cell_type": "code",
   "execution_count": 20,
   "metadata": {},
   "outputs": [],
   "source": [
    "import pickle"
   ]
  },
  {
   "cell_type": "code",
   "execution_count": 21,
   "metadata": {},
   "outputs": [],
   "source": [
    "with open('./trainHistoryDict', 'wb') as file_pi:\n",
    "        pickle.dump(history.history, file_pi)"
   ]
  },
  {
   "cell_type": "markdown",
   "metadata": {},
   "source": [
    "## Conclusion"
   ]
  },
  {
   "cell_type": "markdown",
   "metadata": {},
   "source": [
    "To conclude, transfer learning is a good way to try with small datasets. It uses weights trained on large datasets, which takes relevant parts of the pre-trained model and applies to the new problem. Resnet is a powerful model that makes it possible to train deep networks avoiding vanishing gradient problem. "
   ]
  }
 ],
 "metadata": {
  "colab": {
   "collapsed_sections": [],
   "name": "PSS5 - Lecture 4.ipynb",
   "provenance": []
  },
  "kernelspec": {
   "display_name": "Python 3 (ipykernel)",
   "language": "python",
   "name": "python3"
  },
  "language_info": {
   "codemirror_mode": {
    "name": "ipython",
    "version": 3
   },
   "file_extension": ".py",
   "mimetype": "text/x-python",
   "name": "python",
   "nbconvert_exporter": "python",
   "pygments_lexer": "ipython3",
   "version": "3.10.5"
  },
  "toc": {
   "base_numbering": 1,
   "nav_menu": {},
   "number_sections": true,
   "sideBar": true,
   "skip_h1_title": false,
   "title_cell": "Table of Contents",
   "title_sidebar": "Contents",
   "toc_cell": false,
   "toc_position": {},
   "toc_section_display": true,
   "toc_window_display": true
  },
  "varInspector": {
   "cols": {
    "lenName": 16,
    "lenType": 16,
    "lenVar": 40
   },
   "kernels_config": {
    "python": {
     "delete_cmd_postfix": "",
     "delete_cmd_prefix": "del ",
     "library": "var_list.py",
     "varRefreshCmd": "print(var_dic_list())"
    },
    "r": {
     "delete_cmd_postfix": ") ",
     "delete_cmd_prefix": "rm(",
     "library": "var_list.r",
     "varRefreshCmd": "cat(var_dic_list()) "
    }
   },
   "types_to_exclude": [
    "module",
    "function",
    "builtin_function_or_method",
    "instance",
    "_Feature"
   ],
   "window_display": false
  }
 },
 "nbformat": 4,
 "nbformat_minor": 1
}
