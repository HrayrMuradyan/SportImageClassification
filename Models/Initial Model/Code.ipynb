{
 "cells": [
  {
   "cell_type": "markdown",
   "metadata": {},
   "source": [
    "# Sport Image Classification (Using Convolutional Neural Network)"
   ]
  },
  {
   "cell_type": "markdown",
   "metadata": {},
   "source": [
    "Collection of 100 different sport images. Total of 13572 samples. The classes are nearly balanced, number of samples for each class varies ~100-170"
   ]
  },
  {
   "cell_type": "markdown",
   "metadata": {},
   "source": [
    "### Importing Libraries"
   ]
  },
  {
   "cell_type": "code",
   "execution_count": 1,
   "metadata": {},
   "outputs": [],
   "source": [
    "import numpy as np\n",
    "import os\n",
    "from keras import layers\n",
    "from keras import models\n",
    "from keras import optimizers\n",
    "from keras import metrics\n",
    "import tensorflow as tf \n",
    "import matplotlib.pyplot as plt"
   ]
  },
  {
   "cell_type": "markdown",
   "metadata": {},
   "source": [
    "### Getting image directories for train and validation sets"
   ]
  },
  {
   "cell_type": "code",
   "execution_count": 2,
   "metadata": {},
   "outputs": [],
   "source": [
    "train_directory = '../../Data/TrainSet'\n",
    "valid_directory = '../../Data/ValidSet'"
   ]
  },
  {
   "cell_type": "code",
   "execution_count": 3,
   "metadata": {},
   "outputs": [
    {
     "data": {
      "text/plain": [
       "'../../Data/TrainSet'"
      ]
     },
     "execution_count": 3,
     "metadata": {},
     "output_type": "execute_result"
    }
   ],
   "source": [
    "train_directory"
   ]
  },
  {
   "cell_type": "code",
   "execution_count": 4,
   "metadata": {},
   "outputs": [
    {
     "name": "stdout",
     "output_type": "stream",
     "text": [
      "air hockey -> 112\n",
      "ampute football -> 112\n",
      "archery -> 132\n",
      "arm wrestling -> 99\n",
      "axe throwing -> 113\n",
      "balance beam -> 152\n",
      "barell racing -> 123\n",
      "baseball -> 174\n",
      "basketball -> 169\n",
      "baton twirling -> 108\n",
      "bike polo -> 111\n",
      "billiards -> 145\n",
      "bmx -> 140\n",
      "bobsled -> 138\n",
      "bowling -> 120\n",
      "boxing -> 116\n",
      "bull riding -> 149\n",
      "bungee jumping -> 125\n",
      "canoe slamon -> 164\n",
      "cheerleading -> 132\n",
      "chuckwagon racing -> 120\n",
      "cricket -> 130\n",
      "croquet -> 136\n",
      "curling -> 141\n",
      "disc golf -> 123\n",
      "fencing -> 135\n",
      "field hockey -> 158\n",
      "figure skating men -> 146\n",
      "figure skating pairs -> 151\n",
      "figure skating women -> 159\n",
      "fly fishing -> 134\n",
      "football -> 191\n",
      "formula 1 racing -> 191\n",
      "frisbee -> 133\n",
      "gaga -> 118\n",
      "giant slalom -> 151\n",
      "golf -> 157\n",
      "hammer throw -> 122\n",
      "hang gliding -> 122\n",
      "harness racing -> 147\n",
      "high jump -> 159\n",
      "hockey -> 172\n",
      "horse jumping -> 137\n",
      "horse racing -> 139\n",
      "horseshoe pitching -> 102\n",
      "hurdles -> 137\n",
      "hydroplane racing -> 108\n",
      "ice climbing -> 130\n",
      "ice yachting -> 112\n",
      "jai alai -> 132\n",
      "javelin -> 136\n",
      "jousting -> 118\n",
      "judo -> 150\n",
      "lacrosse -> 151\n",
      "log rolling -> 128\n",
      "luge -> 127\n",
      "motorcycle racing -> 132\n",
      "mushing -> 111\n",
      "nascar racing -> 190\n",
      "olympic wrestling -> 167\n",
      "parallel bar -> 133\n",
      "pole climbing -> 118\n",
      "pole dancing -> 112\n",
      "pole vault -> 138\n",
      "polo -> 157\n",
      "pommel horse -> 120\n",
      "rings -> 167\n",
      "rock climbing -> 141\n",
      "roller derby -> 163\n",
      "rollerblade racing -> 159\n",
      "rowing -> 143\n",
      "rugby -> 166\n",
      "sailboat racing -> 144\n",
      "shot put -> 155\n",
      "shuffleboard -> 130\n",
      "sidecar racing -> 135\n",
      "ski jumping -> 130\n",
      "sky surfing -> 59\n",
      "skydiving -> 149\n",
      "snow boarding -> 117\n",
      "snowmobile racing -> 147\n",
      "speed skating -> 137\n",
      "steer wrestling -> 122\n",
      "sumo wrestling -> 133\n",
      "surfing -> 142\n",
      "swimming -> 157\n",
      "table tennis -> 141\n",
      "tennis -> 131\n",
      "track bicycle -> 135\n",
      "trapeze -> 132\n",
      "tug of war -> 128\n",
      "ultimate -> 99\n",
      "uneven bars -> 158\n",
      "volleyball -> 147\n",
      "water cycling -> 103\n",
      "water polo -> 130\n",
      "weightlifting -> 134\n",
      "wheelchair basketball -> 106\n",
      "wheelchair racing -> 119\n",
      "wingsuit flying -> 98\n"
     ]
    }
   ],
   "source": [
    "for folder in os.listdir(train_directory):\n",
    "    print(folder + ' -> ' + str(len([name for name in os.listdir('../../Data/TrainSet/'+str(folder))])))"
   ]
  },
  {
   "cell_type": "markdown",
   "metadata": {},
   "source": [
    "# Creating the model"
   ]
  },
  {
   "cell_type": "markdown",
   "metadata": {},
   "source": [
    "### Initial run"
   ]
  },
  {
   "cell_type": "markdown",
   "metadata": {},
   "source": [
    "An initial run with 13 layers (5 Convolutional layers, 5 Pooling, 2 Fully Connected Layers and 1 Output Layer)\n",
    "\n"
   ]
  },
  {
   "cell_type": "code",
   "execution_count": 5,
   "metadata": {},
   "outputs": [],
   "source": [
    "model = models.Sequential()\n",
    "model.add(layers.Conv2D(32, (3, 3), activation = 'relu', padding=\"same\", input_shape=(224,224,3)))\n",
    "model.add(layers.MaxPooling2D((2,2)))\n",
    "model.add(layers.Conv2D(64, (3,3), activation = 'relu', padding=\"same\"))\n",
    "model.add(layers.MaxPooling2D((2,2)))\n",
    "model.add(layers.Conv2D(128, (3,3), activation = 'relu', padding=\"same\"))\n",
    "model.add(layers.MaxPooling2D((2,2)))\n",
    "model.add(layers.Conv2D(256, (3,3), activation = 'relu',padding=\"same\"))\n",
    "model.add(layers.MaxPooling2D((2,2)))\n",
    "model.add(layers.Conv2D(256, (3,3), activation = 'relu',padding=\"same\"))\n",
    "model.add(layers.MaxPooling2D((2,2)))\n",
    "model.add(layers.Flatten())\n",
    "model.add(layers.Dense(4096, activation = 'relu'))\n",
    "model.add(layers.Dense(1024, activation = 'relu'))\n",
    "model.add(layers.Dense(100,activation = 'softmax'))"
   ]
  },
  {
   "cell_type": "code",
   "execution_count": 6,
   "metadata": {},
   "outputs": [
    {
     "name": "stdout",
     "output_type": "stream",
     "text": [
      "Model: \"sequential\"\n",
      "_________________________________________________________________\n",
      " Layer (type)                Output Shape              Param #   \n",
      "=================================================================\n",
      " conv2d (Conv2D)             (None, 224, 224, 32)      896       \n",
      "                                                                 \n",
      " max_pooling2d (MaxPooling2D  (None, 112, 112, 32)     0         \n",
      " )                                                               \n",
      "                                                                 \n",
      " conv2d_1 (Conv2D)           (None, 112, 112, 64)      18496     \n",
      "                                                                 \n",
      " max_pooling2d_1 (MaxPooling  (None, 56, 56, 64)       0         \n",
      " 2D)                                                             \n",
      "                                                                 \n",
      " conv2d_2 (Conv2D)           (None, 56, 56, 128)       73856     \n",
      "                                                                 \n",
      " max_pooling2d_2 (MaxPooling  (None, 28, 28, 128)      0         \n",
      " 2D)                                                             \n",
      "                                                                 \n",
      " conv2d_3 (Conv2D)           (None, 28, 28, 256)       295168    \n",
      "                                                                 \n",
      " max_pooling2d_3 (MaxPooling  (None, 14, 14, 256)      0         \n",
      " 2D)                                                             \n",
      "                                                                 \n",
      " conv2d_4 (Conv2D)           (None, 14, 14, 256)       590080    \n",
      "                                                                 \n",
      " max_pooling2d_4 (MaxPooling  (None, 7, 7, 256)        0         \n",
      " 2D)                                                             \n",
      "                                                                 \n",
      " flatten (Flatten)           (None, 12544)             0         \n",
      "                                                                 \n",
      " dense (Dense)               (None, 4096)              51384320  \n",
      "                                                                 \n",
      " dense_1 (Dense)             (None, 1024)              4195328   \n",
      "                                                                 \n",
      " dense_2 (Dense)             (None, 100)               102500    \n",
      "                                                                 \n",
      "=================================================================\n",
      "Total params: 56,660,644\n",
      "Trainable params: 56,660,644\n",
      "Non-trainable params: 0\n",
      "_________________________________________________________________\n"
     ]
    }
   ],
   "source": [
    "model.summary()"
   ]
  },
  {
   "cell_type": "code",
   "execution_count": 7,
   "metadata": {},
   "outputs": [
    {
     "name": "stderr",
     "output_type": "stream",
     "text": [
      "c:\\users\\user\\appdata\\local\\programs\\python\\python38\\lib\\site-packages\\keras\\optimizers\\optimizer_v2\\rmsprop.py:135: UserWarning: The `lr` argument is deprecated, use `learning_rate` instead.\n",
      "  super(RMSprop, self).__init__(name, **kwargs)\n"
     ]
    }
   ],
   "source": [
    "model.compile(loss='categorical_crossentropy', optimizer=optimizers.RMSprop(lr=1e-4),metrics=metrics.metrics.categorical_accuracy)"
   ]
  },
  {
   "cell_type": "markdown",
   "metadata": {},
   "source": [
    "## Data Preprocessing"
   ]
  },
  {
   "cell_type": "markdown",
   "metadata": {},
   "source": [
    "#### Reading Images"
   ]
  },
  {
   "cell_type": "code",
   "execution_count": 8,
   "metadata": {},
   "outputs": [],
   "source": [
    "from keras.preprocessing.image import ImageDataGenerator"
   ]
  },
  {
   "cell_type": "code",
   "execution_count": 9,
   "metadata": {},
   "outputs": [],
   "source": [
    "train_datagen = ImageDataGenerator(rescale=1./255)\n",
    "test_datagen = ImageDataGenerator(rescale=1./255)"
   ]
  },
  {
   "cell_type": "code",
   "execution_count": 10,
   "metadata": {},
   "outputs": [
    {
     "name": "stdout",
     "output_type": "stream",
     "text": [
      "Found 13572 images belonging to 100 classes.\n",
      "Found 500 images belonging to 100 classes.\n"
     ]
    }
   ],
   "source": [
    "train_generator = train_datagen.flow_from_directory(\n",
    "    train_directory,\n",
    "    target_size=(224,224),\n",
    "    batch_size=64,\n",
    "    class_mode='categorical'\n",
    ")\n",
    "\n",
    "validation_generator = test_datagen.flow_from_directory(\n",
    "    valid_directory,\n",
    "    target_size=(224,224),\n",
    "    batch_size=32,\n",
    "    class_mode='categorical'\n",
    ")"
   ]
  },
  {
   "cell_type": "code",
   "execution_count": 11,
   "metadata": {},
   "outputs": [],
   "source": [
    "import pickle"
   ]
  },
  {
   "cell_type": "code",
   "execution_count": 12,
   "metadata": {},
   "outputs": [
    {
     "name": "stdout",
     "output_type": "stream",
     "text": [
      "databatch shape: (64, 224, 224, 3)\n",
      "labelbatch shape: (64, 100)\n"
     ]
    }
   ],
   "source": [
    "for data_batch, label_batch in train_generator:\n",
    "    print('databatch shape:', data_batch.shape)\n",
    "    print('labelbatch shape:',label_batch.shape)\n",
    "    break"
   ]
  },
  {
   "cell_type": "code",
   "execution_count": 13,
   "metadata": {
    "scrolled": false
   },
   "outputs": [
    {
     "name": "stderr",
     "output_type": "stream",
     "text": [
      "<ipython-input-13-3a50133fa9f3>:1: UserWarning: `Model.fit_generator` is deprecated and will be removed in a future version. Please use `Model.fit`, which supports generators.\n",
      "  history = model.fit_generator(\n"
     ]
    },
    {
     "name": "stdout",
     "output_type": "stream",
     "text": [
      "Epoch 1/30\n",
      "212/212 [==============================] - 1115s 5s/step - loss: 4.0854 - categorical_accuracy: 0.0700 - val_loss: 3.5833 - val_categorical_accuracy: 0.1292\n",
      "Epoch 2/30\n",
      "212/212 [==============================] - 1095s 5s/step - loss: 3.3013 - categorical_accuracy: 0.1956 - val_loss: 2.9596 - val_categorical_accuracy: 0.2792\n",
      "Epoch 3/30\n",
      "212/212 [==============================] - 1095s 5s/step - loss: 2.7540 - categorical_accuracy: 0.3081 - val_loss: 2.5342 - val_categorical_accuracy: 0.3562\n",
      "Epoch 4/30\n",
      "212/212 [==============================] - 1096s 5s/step - loss: 2.2877 - categorical_accuracy: 0.4106 - val_loss: 2.2452 - val_categorical_accuracy: 0.4333\n",
      "Epoch 5/30\n",
      "212/212 [==============================] - 1100s 5s/step - loss: 1.8674 - categorical_accuracy: 0.5070 - val_loss: 2.2610 - val_categorical_accuracy: 0.3896\n",
      "Epoch 6/30\n",
      "212/212 [==============================] - 1097s 5s/step - loss: 1.4819 - categorical_accuracy: 0.5973 - val_loss: 1.9480 - val_categorical_accuracy: 0.4938\n",
      "Epoch 7/30\n",
      "212/212 [==============================] - 1098s 5s/step - loss: 1.0761 - categorical_accuracy: 0.6992 - val_loss: 2.0389 - val_categorical_accuracy: 0.4833\n",
      "Epoch 8/30\n",
      "212/212 [==============================] - 1099s 5s/step - loss: 0.6989 - categorical_accuracy: 0.8034 - val_loss: 1.9566 - val_categorical_accuracy: 0.5104\n",
      "Epoch 9/30\n",
      "212/212 [==============================] - 1106s 5s/step - loss: 0.4099 - categorical_accuracy: 0.8827 - val_loss: 2.3111 - val_categorical_accuracy: 0.4729\n",
      "Epoch 10/30\n",
      "212/212 [==============================] - 1105s 5s/step - loss: 0.2469 - categorical_accuracy: 0.9262 - val_loss: 2.5618 - val_categorical_accuracy: 0.5083\n",
      "Epoch 11/30\n",
      "212/212 [==============================] - 1100s 5s/step - loss: 0.1648 - categorical_accuracy: 0.9525 - val_loss: 2.6872 - val_categorical_accuracy: 0.5083\n",
      "Epoch 12/30\n",
      "212/212 [==============================] - 1099s 5s/step - loss: 0.1330 - categorical_accuracy: 0.9615 - val_loss: 3.3152 - val_categorical_accuracy: 0.4708\n",
      "Epoch 13/30\n",
      "212/212 [==============================] - 1101s 5s/step - loss: 0.1115 - categorical_accuracy: 0.9692 - val_loss: 2.7622 - val_categorical_accuracy: 0.5229\n",
      "Epoch 14/30\n",
      "212/212 [==============================] - 1099s 5s/step - loss: 0.0831 - categorical_accuracy: 0.9790 - val_loss: 3.0207 - val_categorical_accuracy: 0.5188\n",
      "Epoch 15/30\n",
      "212/212 [==============================] - 1099s 5s/step - loss: 0.0757 - categorical_accuracy: 0.9810 - val_loss: 2.7221 - val_categorical_accuracy: 0.5500\n",
      "Epoch 16/30\n",
      "212/212 [==============================] - 1099s 5s/step - loss: 0.0689 - categorical_accuracy: 0.9830 - val_loss: 2.7335 - val_categorical_accuracy: 0.5271\n",
      "Epoch 17/30\n",
      "212/212 [==============================] - 1098s 5s/step - loss: 0.0646 - categorical_accuracy: 0.9850 - val_loss: 3.2924 - val_categorical_accuracy: 0.5188\n",
      "Epoch 18/30\n",
      "212/212 [==============================] - 1097s 5s/step - loss: 0.0496 - categorical_accuracy: 0.9876 - val_loss: 3.2453 - val_categorical_accuracy: 0.4958\n",
      "Epoch 19/30\n",
      "212/212 [==============================] - 1095s 5s/step - loss: 0.0566 - categorical_accuracy: 0.9876 - val_loss: 3.0242 - val_categorical_accuracy: 0.5417\n",
      "Epoch 20/30\n",
      "212/212 [==============================] - 1096s 5s/step - loss: 0.0525 - categorical_accuracy: 0.9891 - val_loss: 2.9057 - val_categorical_accuracy: 0.5250\n",
      "Epoch 21/30\n",
      "212/212 [==============================] - 1096s 5s/step - loss: 0.0467 - categorical_accuracy: 0.9902 - val_loss: 2.8451 - val_categorical_accuracy: 0.5521\n",
      "Epoch 22/30\n",
      "212/212 [==============================] - 1099s 5s/step - loss: 0.0353 - categorical_accuracy: 0.9906 - val_loss: 2.9672 - val_categorical_accuracy: 0.5333\n",
      "Epoch 23/30\n",
      "212/212 [==============================] - 1097s 5s/step - loss: 0.0367 - categorical_accuracy: 0.9916 - val_loss: 3.2165 - val_categorical_accuracy: 0.5104\n",
      "Epoch 24/30\n",
      "212/212 [==============================] - 1096s 5s/step - loss: 0.0332 - categorical_accuracy: 0.9927 - val_loss: 3.4462 - val_categorical_accuracy: 0.5167\n",
      "Epoch 25/30\n",
      "212/212 [==============================] - 1094s 5s/step - loss: 0.0277 - categorical_accuracy: 0.9932 - val_loss: 3.8428 - val_categorical_accuracy: 0.5063\n",
      "Epoch 26/30\n",
      "212/212 [==============================] - 1101s 5s/step - loss: 0.0318 - categorical_accuracy: 0.9926 - val_loss: 3.1793 - val_categorical_accuracy: 0.5292\n",
      "Epoch 27/30\n",
      "212/212 [==============================] - 1101s 5s/step - loss: 0.0302 - categorical_accuracy: 0.9930 - val_loss: 3.4806 - val_categorical_accuracy: 0.5167\n",
      "Epoch 28/30\n",
      "212/212 [==============================] - 1100s 5s/step - loss: 0.0243 - categorical_accuracy: 0.9953 - val_loss: 4.3504 - val_categorical_accuracy: 0.5021\n",
      "Epoch 29/30\n",
      "212/212 [==============================] - 1101s 5s/step - loss: 0.0305 - categorical_accuracy: 0.9936 - val_loss: 3.1726 - val_categorical_accuracy: 0.5354\n",
      "Epoch 30/30\n",
      "212/212 [==============================] - 1102s 5s/step - loss: 0.0267 - categorical_accuracy: 0.9945 - val_loss: 3.2240 - val_categorical_accuracy: 0.5229\n"
     ]
    }
   ],
   "source": [
    "history = model.fit_generator(\n",
    "    train_generator,\n",
    "    steps_per_epoch = 212,\n",
    "    epochs = 30,\n",
    "    validation_data = validation_generator,\n",
    "    validation_steps = 15\n",
    ")"
   ]
  },
  {
   "cell_type": "code",
   "execution_count": 14,
   "metadata": {},
   "outputs": [],
   "source": [
    "model.save('model3.h5')"
   ]
  },
  {
   "cell_type": "code",
   "execution_count": 18,
   "metadata": {},
   "outputs": [
    {
     "data": {
      "text/plain": [
       "{'loss': [4.085418224334717,\n",
       "  3.30129075050354,\n",
       "  2.7539560794830322,\n",
       "  2.2876532077789307,\n",
       "  1.8674383163452148,\n",
       "  1.481881856918335,\n",
       "  1.0761200189590454,\n",
       "  0.6988825798034668,\n",
       "  0.40994009375572205,\n",
       "  0.24685075879096985,\n",
       "  0.16484150290489197,\n",
       "  0.13297966122627258,\n",
       "  0.11147819459438324,\n",
       "  0.08305584639310837,\n",
       "  0.07573376595973969,\n",
       "  0.06891817599534988,\n",
       "  0.06455082446336746,\n",
       "  0.04961834102869034,\n",
       "  0.05655442178249359,\n",
       "  0.052459679543972015,\n",
       "  0.04669056087732315,\n",
       "  0.035320281982421875,\n",
       "  0.036682531237602234,\n",
       "  0.0331759974360466,\n",
       "  0.02770785614848137,\n",
       "  0.03176191449165344,\n",
       "  0.030174730345606804,\n",
       "  0.024340370669960976,\n",
       "  0.030509566888213158,\n",
       "  0.026674456894397736],\n",
       " 'categorical_accuracy': [0.06995854526758194,\n",
       "  0.19558779895305634,\n",
       "  0.3081137239933014,\n",
       "  0.41057151556015015,\n",
       "  0.5070328712463379,\n",
       "  0.5972756743431091,\n",
       "  0.699215292930603,\n",
       "  0.803375780582428,\n",
       "  0.8826621174812317,\n",
       "  0.9261918663978577,\n",
       "  0.9524726271629333,\n",
       "  0.9615042805671692,\n",
       "  0.9692034125328064,\n",
       "  0.9790494441986084,\n",
       "  0.9809742569923401,\n",
       "  0.982973039150238,\n",
       "  0.9849718809127808,\n",
       "  0.9875629544258118,\n",
       "  0.9876369833946228,\n",
       "  0.9891175627708435,\n",
       "  0.990153968334198,\n",
       "  0.9905981421470642,\n",
       "  0.9915605783462524,\n",
       "  0.992671012878418,\n",
       "  0.9931892156600952,\n",
       "  0.9925969839096069,\n",
       "  0.9929671287536621,\n",
       "  0.995262086391449,\n",
       "  0.9936333894729614,\n",
       "  0.9945217370986938],\n",
       " 'val_loss': [3.583338975906372,\n",
       "  2.9596214294433594,\n",
       "  2.534203052520752,\n",
       "  2.245231866836548,\n",
       "  2.2609755992889404,\n",
       "  1.9479501247406006,\n",
       "  2.03889799118042,\n",
       "  1.9565941095352173,\n",
       "  2.3110952377319336,\n",
       "  2.5618128776550293,\n",
       "  2.687156915664673,\n",
       "  3.31516170501709,\n",
       "  2.762197256088257,\n",
       "  3.020662546157837,\n",
       "  2.7221426963806152,\n",
       "  2.733525276184082,\n",
       "  3.292363166809082,\n",
       "  3.2453103065490723,\n",
       "  3.0242269039154053,\n",
       "  2.905719518661499,\n",
       "  2.8451457023620605,\n",
       "  2.967186689376831,\n",
       "  3.216538906097412,\n",
       "  3.446216106414795,\n",
       "  3.842825174331665,\n",
       "  3.1793246269226074,\n",
       "  3.480569362640381,\n",
       "  4.350372314453125,\n",
       "  3.1726112365722656,\n",
       "  3.223973035812378],\n",
       " 'val_categorical_accuracy': [0.12916666269302368,\n",
       "  0.27916666865348816,\n",
       "  0.35624998807907104,\n",
       "  0.4333333373069763,\n",
       "  0.3895833194255829,\n",
       "  0.4937500059604645,\n",
       "  0.4833333194255829,\n",
       "  0.5104166865348816,\n",
       "  0.4729166626930237,\n",
       "  0.5083333253860474,\n",
       "  0.5083333253860474,\n",
       "  0.47083333134651184,\n",
       "  0.5229166746139526,\n",
       "  0.518750011920929,\n",
       "  0.550000011920929,\n",
       "  0.5270833373069763,\n",
       "  0.518750011920929,\n",
       "  0.4958333373069763,\n",
       "  0.5416666865348816,\n",
       "  0.5249999761581421,\n",
       "  0.5520833134651184,\n",
       "  0.5333333611488342,\n",
       "  0.5104166865348816,\n",
       "  0.5166666507720947,\n",
       "  0.5062500238418579,\n",
       "  0.5291666388511658,\n",
       "  0.5166666507720947,\n",
       "  0.5020833611488342,\n",
       "  0.5354166626930237,\n",
       "  0.5229166746139526]}"
      ]
     },
     "execution_count": 18,
     "metadata": {},
     "output_type": "execute_result"
    }
   ],
   "source": [
    "history.history"
   ]
  },
  {
   "cell_type": "code",
   "execution_count": 17,
   "metadata": {},
   "outputs": [],
   "source": [
    "with open('./trainHistoryDict', 'wb') as file_pi:\n",
    "        pickle.dump(history.history, file_pi)"
   ]
  },
  {
   "cell_type": "code",
   "execution_count": 19,
   "metadata": {},
   "outputs": [
    {
     "data": {
      "image/png": "[encoded data removed]",
      "text/plain": [
       "<Figure size 432x288 with 1 Axes>"
      ]
     },
     "metadata": {
      "needs_background": "light"
     },
     "output_type": "display_data"
    },
    {
     "data": {
      "image/png": "[encoded data removed]",
      "text/plain": [
       "<Figure size 432x288 with 1 Axes>"
      ]
     },
     "metadata": {
      "needs_background": "light"
     },
     "output_type": "display_data"
    }
   ],
   "source": [
    "acc = history.history['categorical_accuracy']\n",
    "val_acc = history.history['val_categorical_accuracy']\n",
    "loss = history.history['loss']\n",
    "val_loss = history.history['val_loss']\n",
    "\n",
    "epochs = range(1, len(acc) + 1)\n",
    "\n",
    "plt.plot(epochs, acc, 'bo', label = 'Training Accuracy')\n",
    "plt.plot(epochs, val_acc, 'b', label = 'Validation Accuracy')\n",
    "plt.title('Training and Validation Accuracy')\n",
    "plt.legend()\n",
    "plt.figure()\n",
    "\n",
    "plt.plot(epochs, loss, 'bo', label = 'Training Loss')\n",
    "plt.plot(epochs, val_loss, 'b', label = 'Validation Loss')\n",
    "plt.title('Training and Validation Loss')\n",
    "plt.legend()\n",
    "\n",
    "plt.show()"
   ]
  },
  {
   "cell_type": "code",
   "execution_count": null,
   "metadata": {},
   "outputs": [],
   "source": []
  }
 ],
 "metadata": {
  "colab": {
   "collapsed_sections": [],
   "name": "PSS5 - Lecture 4.ipynb",
   "provenance": []
  },
  "kernelspec": {
   "display_name": "Python 3",
   "language": "python",
   "name": "python3"
  },
  "language_info": {
   "codemirror_mode": {
    "name": "ipython",
    "version": 3
   },
   "file_extension": ".py",
   "mimetype": "text/x-python",
   "name": "python",
   "nbconvert_exporter": "python",
   "pygments_lexer": "ipython3",
   "version": "3.8.5"
  },
  "toc": {
   "base_numbering": 1,
   "nav_menu": {},
   "number_sections": true,
   "sideBar": true,
   "skip_h1_title": false,
   "title_cell": "Table of Contents",
   "title_sidebar": "Contents",
   "toc_cell": false,
   "toc_position": {},
   "toc_section_display": true,
   "toc_window_display": true
  },
  "varInspector": {
   "cols": {
    "lenName": 16,
    "lenType": 16,
    "lenVar": 40
   },
   "kernels_config": {
    "python": {
     "delete_cmd_postfix": "",
     "delete_cmd_prefix": "del ",
     "library": "var_list.py",
     "varRefreshCmd": "print(var_dic_list())"
    },
    "r": {
     "delete_cmd_postfix": ") ",
     "delete_cmd_prefix": "rm(",
     "library": "var_list.r",
     "varRefreshCmd": "cat(var_dic_list()) "
    }
   },
   "types_to_exclude": [
    "module",
    "function",
    "builtin_function_or_method",
    "instance",
    "_Feature"
   ],
   "window_display": false
  }
 },
 "nbformat": 4,
 "nbformat_minor": 1
}
